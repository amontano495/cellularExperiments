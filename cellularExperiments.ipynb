{
 "cells": [
  {
   "cell_type": "code",
   "execution_count": 16,
   "metadata": {},
   "outputs": [],
   "source": [
    "import numpy as np\n",
    "import matplotlib.pyplot as plt\n",
    "from PIL import Image"
   ]
  },
  {
   "cell_type": "code",
   "execution_count": 17,
   "metadata": {},
   "outputs": [],
   "source": [
    "class Cell:\n",
    "    def __init__(self, color, rgb, power, pos):\n",
    "        self.color = color\n",
    "        self.rgb = rgb\n",
    "        self.power = power\n",
    "        self.up,self.down,self.left,self.right = 0,0,0,0\n",
    "        self.pos = pos\n",
    "        self.neighbors = []\n",
    "\n",
    "    def atk(self):\n",
    "        if self.color == \"red\":\n",
    "            self.up = 35\n",
    "            self.down = 35\n",
    "            self.left = 15\n",
    "            self.right = 15\n",
    "        \n",
    "        if self.color == \"blu\":\n",
    "            self.up = 15\n",
    "            self.down = 15\n",
    "            self.left = 35\n",
    "            self.right = 35\n",
    "            \n",
    "        self.up,self.down,self.left,self.right = np.random.multinomial(self.power,[1/4.] * 4)\n",
    "    \n",
    "    def getNeighbors(self,cells):\n",
    "        north = ( self.pos[0]  , self.pos[1] - 1 )\n",
    "        east = ( self.pos[0] + 1, self.pos[1] )\n",
    "        south = ( self.pos[0] , self.pos[1] + 1 )\n",
    "        west = ( self.pos[0] - 1, self.pos[1] )\n",
    "    \n",
    "        for (i,j) in [north,east,south,west]:\n",
    "            if not outOfBounds( (i,j) ):\n",
    "                self.neighbors.append( cells[i][j] )\n",
    "        \n",
    "        return self.neighbors\n",
    "    \n",
    "    def updateState(self,oldCells):\n",
    "        for neighbor in oldCells[self.pos[0]][self.pos[1]].neighbors:\n",
    "            if neighbor.color != self.color:\n",
    "                enemyAtks = [neighbor.up,neighbor.right,neighbor.down,neighbor.left]\n",
    "                \n",
    "                myAtks = [self.up,self.right,self.down,self.left]\n",
    "                fights = list(zip(myAtks,enemyAtks))\n",
    "                wins = list(map((lambda tup : tup[0] >= tup[1]),fights))\n",
    "                if sum(wins) < 2:\n",
    "                    self.color = neighbor.color\n",
    "                    self.rgb = neighbor.rgb"
   ]
  },
  {
   "cell_type": "code",
   "execution_count": 18,
   "metadata": {},
   "outputs": [],
   "source": [
    "def initCells(cells):\n",
    "    for i in range(height):\n",
    "        for j in range(width):\n",
    "            cells[i][j].neighbors = cells[i][j].getNeighbors(cells)\n",
    "            \n",
    "def evalCells(newCells,oldCells):\n",
    "    for i in range(height):\n",
    "        for j in range(width):\n",
    "            oldCells[i][j].atk()\n",
    "            oldCells[i][j]\n",
    "            cells[i][j].updateState(oldCells)"
   ]
  },
  {
   "cell_type": "code",
   "execution_count": 19,
   "metadata": {},
   "outputs": [],
   "source": [
    "def outOfBounds(position):\n",
    "    if ((position[0] >= 0 and position[0] < height) \n",
    "        and (position[1] >= 0 and position[1] < width)):\n",
    "        return False\n",
    "    return True"
   ]
  },
  {
   "cell_type": "code",
   "execution_count": 20,
   "metadata": {},
   "outputs": [],
   "source": [
    "def cellsToCanvas(cells,canvas,height,width):\n",
    "    for i in range(height):\n",
    "        for j in range(width):\n",
    "            canvas[i][j] = cells[i][j].rgb"
   ]
  },
  {
   "cell_type": "code",
   "execution_count": 21,
   "metadata": {},
   "outputs": [],
   "source": [
    "height,width = 300,300\n",
    "\n",
    "cells = []\n",
    "oldCells = []\n",
    "for i in range(height):\n",
    "    row = []\n",
    "    for j in range(width):\n",
    "        if j < (width/2):\n",
    "            row.append( Cell(\"red\", [255,0,0], 100, (i,j)) )\n",
    "        else:\n",
    "            row.append( Cell(\"blu\", [0,0,255], 100, (i,j)) )\n",
    "        \n",
    "    cells.append(row)\n",
    "    oldCells.append(row)"
   ]
  },
  {
   "cell_type": "code",
   "execution_count": 22,
   "metadata": {},
   "outputs": [
    {
     "data": {
      "image/png": "[encoded data removed]",
      "text/plain": [
       "<PIL.Image.Image image mode=RGB size=300x300 at 0x7F733BD35190>"
      ]
     },
     "execution_count": 22,
     "metadata": {},
     "output_type": "execute_result"
    }
   ],
   "source": [
    "canvas = np.zeros([height, width, 3], dtype=np.uint8)\n",
    "cellsToCanvas(cells,canvas,height,width)\n",
    "Image.fromarray(canvas)"
   ]
  },
  {
   "cell_type": "code",
   "execution_count": 23,
   "metadata": {},
   "outputs": [
    {
     "ename": "TypeError",
     "evalue": "evalCells() missing 1 required positional argument: 'oldCells'",
     "output_type": "error",
     "traceback": [
      "\u001b[0;31m---------------------------------------------------------------------------\u001b[0m",
      "\u001b[0;31mTypeError\u001b[0m                                 Traceback (most recent call last)",
      "\u001b[0;32m<ipython-input-23-ef0769cc5ed7>\u001b[0m in \u001b[0;36m<module>\u001b[0;34m\u001b[0m\n\u001b[1;32m      2\u001b[0m \u001b[0;34m\u001b[0m\u001b[0m\n\u001b[1;32m      3\u001b[0m \u001b[0;32mfor\u001b[0m \u001b[0mi\u001b[0m \u001b[0;32min\u001b[0m \u001b[0mrange\u001b[0m\u001b[0;34m(\u001b[0m\u001b[0;36m10\u001b[0m\u001b[0;34m)\u001b[0m\u001b[0;34m:\u001b[0m\u001b[0;34m\u001b[0m\u001b[0;34m\u001b[0m\u001b[0m\n\u001b[0;32m----> 4\u001b[0;31m     \u001b[0mevalCells\u001b[0m\u001b[0;34m(\u001b[0m\u001b[0mcells\u001b[0m\u001b[0;34m)\u001b[0m\u001b[0;34m\u001b[0m\u001b[0;34m\u001b[0m\u001b[0m\n\u001b[0m",
      "\u001b[0;31mTypeError\u001b[0m: evalCells() missing 1 required positional argument: 'oldCells'"
     ]
    }
   ],
   "source": [
    "initCells(cells)\n",
    "\n",
    "for i in range(10):\n",
    "    evalCells(cells,oldCells)"
   ]
  },
  {
   "cell_type": "code",
   "execution_count": 52,
   "metadata": {},
   "outputs": [
    {
     "data": {
      "image/png": "[encoded data removed]",
      "text/plain": [
       "<PIL.Image.Image image mode=RGB size=300x300 at 0x7F10ED45B5D0>"
      ]
     },
     "execution_count": 52,
     "metadata": {},
     "output_type": "execute_result"
    }
   ],
   "source": [
    "cellsToCanvas(cells,canvas,height,width)\n",
    "Image.fromarray(canvas)"
   ]
  },
  {
   "cell_type": "code",
   "execution_count": null,
   "metadata": {},
   "outputs": [],
   "source": []
  },
  {
   "cell_type": "code",
   "execution_count": null,
   "metadata": {},
   "outputs": [],
   "source": [
    "    for j in range(width):\n"
   ]
  }
 ],
 "metadata": {
  "kernelspec": {
   "display_name": "Python 3",
   "language": "python",
   "name": "python3"
  },
  "language_info": {
   "codemirror_mode": {
    "name": "ipython",
    "version": 3
   },
   "file_extension": ".py",
   "mimetype": "text/x-python",
   "name": "python",
   "nbconvert_exporter": "python",
   "pygments_lexer": "ipython3",
   "version": "3.7.4"
  }
 },
 "nbformat": 4,
 "nbformat_minor": 2
}
