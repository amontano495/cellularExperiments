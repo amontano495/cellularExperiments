{
 "cells": [
  {
   "cell_type": "code",
   "execution_count": 9,
   "metadata": {},
   "outputs": [],
   "source": [
    "import numpy as np\n",
    "import matplotlib.pyplot as plt\n",
    "from PIL import Image"
   ]
  },
  {
   "cell_type": "code",
   "execution_count": 17,
   "metadata": {},
   "outputs": [],
   "source": [
    "class Cell:\n",
    "    def __init__(self, color, rgb, power, pos):\n",
    "        self.color = color\n",
    "        self.rgb = rgb\n",
    "        self.power = power\n",
    "        self.up,self.down,self.left,self.right = 0,0,0,0\n",
    "        self.pos = pos\n",
    "        self.neighbors = []\n",
    "\n",
    "    def atk(self):\n",
    "        self.up,self.down,self.left,self.right = np.random.multinomial(self.power,[1/4.] * 4)\n",
    "    \n",
    "    def getNeighbors(self,cells):\n",
    "        north = ( self.pos[0]  , self.pos[1] - 1 )\n",
    "        east = ( self.pos[0] + 1, self.pos[1] )\n",
    "        south = ( self.pos[0] , self.pos[1] + 1 )\n",
    "        west = ( self.pos[0] - 1, self.pos[1] )\n",
    "    \n",
    "        for (i,j) in [north,east,south,west]:\n",
    "            if not outOfBounds( (i,j) ):\n",
    "                self.neighbors.append( cells[i][j] )\n",
    "        \n",
    "        return self.neighbors\n",
    "    \n",
    "    def updateState(self):\n",
    "        for neighbor in self.neighbors:\n",
    "            if neighbor.color != self.color:\n",
    "                enemyAtks = [neighbor.up,neighbor.right,neighbor.down,neighbor.left]\n",
    "                myAtks = [self.up,self.right,self.down,self.left]\n",
    "                fights = list(zip(myAtks,enemyAtks))\n",
    "                wins = list(map((lambda tup : tup[0] >= tup[1]),fights))\n",
    "                if sum(wins) < 2:\n",
    "                    self.color = neighbor.color\n",
    "                    self.rgb = neighbor.rgb"
   ]
  },
  {
   "cell_type": "code",
   "execution_count": 31,
   "metadata": {},
   "outputs": [],
   "source": [
    "def initCells(cells):\n",
    "    for i in range(height):\n",
    "        for j in range(width):\n",
    "            cells[i][j].neighbors = cells[i][j].getNeighbors(cells)\n",
    "            \n",
    "def evalCells(cells):\n",
    "    for i in range(height):\n",
    "        for j in range(width):\n",
    "            cells[i][j].atk()\n",
    "            cells[i][j].updateState()"
   ]
  },
  {
   "cell_type": "code",
   "execution_count": 32,
   "metadata": {},
   "outputs": [],
   "source": [
    "def outOfBounds(position):\n",
    "    if ((position[0] >= 0 and position[0] < height) \n",
    "        and (position[1] >= 0 and position[1] < width)):\n",
    "        return False\n",
    "    return True"
   ]
  },
  {
   "cell_type": "code",
   "execution_count": 33,
   "metadata": {},
   "outputs": [],
   "source": [
    "def cellsToCanvas(cells,canvas,height,width):\n",
    "    for i in range(height):\n",
    "        for j in range(width):\n",
    "            canvas[i][j] = cells[i][j].rgb"
   ]
  },
  {
   "cell_type": "code",
   "execution_count": 34,
   "metadata": {},
   "outputs": [],
   "source": [
    "height,width = 300,300\n",
    "\n",
    "cells = []\n",
    "for i in range(height):\n",
    "    row = []\n",
    "    for j in range(width):\n",
    "        if j < (width/2):\n",
    "            row.append( Cell(\"red\", [255,0,0], 100, (i,j)) )\n",
    "        else:\n",
    "            row.append( Cell(\"blu\", [0,0,255], 100, (i,j)) )\n",
    "        \n",
    "    cells.append(row)"
   ]
  },
  {
   "cell_type": "code",
   "execution_count": 35,
   "metadata": {},
   "outputs": [
    {
     "data": {
      "image/png": "[encoded data removed]",
      "text/plain": [
       "<PIL.Image.Image image mode=RGB size=300x300 at 0x7F10ECFB3290>"
      ]
     },
     "execution_count": 35,
     "metadata": {},
     "output_type": "execute_result"
    }
   ],
   "source": [
    "canvas = np.zeros([height, width, 3], dtype=np.uint8)\n",
    "cellsToCanvas(cells,canvas,height,width)\n",
    "Image.fromarray(canvas)"
   ]
  },
  {
   "cell_type": "code",
   "execution_count": 41,
   "metadata": {},
   "outputs": [],
   "source": [
    "initCells(cells)\n",
    "\n",
    "for i in range(1000):\n",
    "    evalCells(cells)"
   ]
  },
  {
   "cell_type": "code",
   "execution_count": 42,
   "metadata": {},
   "outputs": [
    {
     "data": {
      "image/png": "[encoded data removed]",
      "text/plain": [
       "<PIL.Image.Image image mode=RGB size=300x300 at 0x7F10EC52CD10>"
      ]
     },
     "execution_count": 42,
     "metadata": {},
     "output_type": "execute_result"
    }
   ],
   "source": [
    "cellsToCanvas(cells,canvas,height,width)\n",
    "Image.fromarray(canvas)"
   ]
  },
  {
   "cell_type": "code",
   "execution_count": null,
   "metadata": {},
   "outputs": [],
   "source": []
  },
  {
   "cell_type": "code",
   "execution_count": null,
   "metadata": {},
   "outputs": [],
   "source": [
    "    for j in range(width):\n"
   ]
  }
 ],
 "metadata": {
  "kernelspec": {
   "display_name": "Python 3",
   "language": "python",
   "name": "python3"
  },
  "language_info": {
   "codemirror_mode": {
    "name": "ipython",
    "version": 3
   },
   "file_extension": ".py",
   "mimetype": "text/x-python",
   "name": "python",
   "nbconvert_exporter": "python",
   "pygments_lexer": "ipython3",
   "version": "3.7.4"
  }
 },
 "nbformat": 4,
 "nbformat_minor": 2
}
